{
 "metadata": {
  "name": ""
 },
 "nbformat": 3,
 "nbformat_minor": 0,
 "worksheets": [
  {
   "cells": [
    {
     "cell_type": "code",
     "collapsed": false,
     "input": [
      "import numpy as np\n",
      "import math\n",
      "# Library of functions used in higgs workbooks\n",
      "\n",
      "TRAINING_LENGTH = 250000.0\n",
      "\n",
      "# Calc AMS score\n",
      "def AMSScore(s,b): \n",
      "    return  math.sqrt (2.*( (s + b + 10.)*math.log(1.+s/(b+10.))-s))\n",
      "\n",
      "# Count absolute number of signal and background events\n",
      "def count_s_b(w,y,yhat):\n",
      "    def getTruePosNeg():\n",
      "        TruePositive = w*(y==1.0)*(1.0/(w.shape[0]/TRAINING_LENGTH))\n",
      "        TrueNegative = w*(y==0.0)*(1.0/(w.shape[0]/TRAINING_LENGTH))\n",
      "        return (TruePositive, TrueNegative)\n",
      "    pos, neg = getTruePosNeg()\n",
      "    s = sum( pos*(yhat==1.0) )\n",
      "    b = sum( neg*(yhat==1.0) )\n",
      "    return s,b\n",
      "    \n",
      "# Calculate the inverse AMS scores and handle exception\n",
      "def inv_AMSScore(s,b):\n",
      "    try:\n",
      "        inv_ams = 1/math.sqrt (2.*( (s + b + 10.)*math.log(1.+s/(b+10.))-s))\n",
      "    except:\n",
      "        inv_ams= 1\n",
      "        pass\n",
      "    return inv_ams\n",
      "\n",
      "# Make dummy vars for missing jets data and missing der_mass_mmc\n",
      "# Two new vars:\n",
      "#      First one is one when DER_MASS_MMC is -999 and zero otherwise\n",
      "#      Second one is one when PRI_JET_NUM is less than or equal to 1 and zero otherwise\n",
      "def make_dummies(x):\n",
      "    DER_MASS_MMC = 0\n",
      "    PRI_JET_NUM = 22\n",
      "    missing = np.zeros((x.shape[0],2))\n",
      "    sel = x[:,DER_MASS_MMC] == -999.0\n",
      "    missing[sel,0] = 1\n",
      "    sel = x[:,PRI_JET_NUM] <= 1\n",
      "    missing[sel,1] = 1\n",
      "    return missing"
     ],
     "language": "python",
     "metadata": {},
     "outputs": []
    }
   ],
   "metadata": {}
  }
 ]
}