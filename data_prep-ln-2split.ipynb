{
 "metadata": {
  "name": ""
 },
 "nbformat": 3,
 "nbformat_minor": 0,
 "worksheets": [
  {
   "cells": [
    {
     "cell_type": "heading",
     "level": 2,
     "metadata": {},
     "source": [
      "# Create 2-split training set with log transform on selected vars"
     ]
    },
    {
     "cell_type": "raw",
     "metadata": {},
     "source": [
      "test data format:\n",
      "EventId,DER_mass_MMC,DER_mass_transverse_met_lep,DER_mass_vis,DER_pt_h,DER_deltaeta_jet_jet,DER_mass_jet_jet,DER_prodeta_jet_jet,DER_deltar_tau_lep,DER_pt_tot,DER_sum_pt,DER_pt_ratio_lep_tau,DER_met_phi_centrality,DER_lep_eta_centrality,PRI_tau_pt,PRI_tau_eta,PRI_tau_phi,PRI_lep_pt,PRI_lep_eta,PRI_lep_phi,PRI_met,PRI_met_phi,PRI_met_sumet,PRI_jet_num,PRI_jet_leading_pt,PRI_jet_leading_eta,PRI_jet_leading_phi,PRI_jet_subleading_pt,PRI_jet_subleading_eta,PRI_jet_subleading_phi,PRI_jet_all_pt\n",
      "350000,-999.0,79.589,23.916,3.036,-999.0,-999.0,-999.0,0.903,3.036,56.018,1.536,-1.404,-999.0,22.088,-0.54,-0.609,33.93,-0.504,-1.511,48.509,2.022,98.556,0,-999.0,-999.0,-999.0,-999.0,-999.0,-999.0,-0.0"
     ]
    },
    {
     "cell_type": "code",
     "collapsed": false,
     "input": [
      "import platform\n",
      "if platform.system() == 'Darwin':\n",
      "    xgboost_path = '/Users/andyh_mac/xgboost/xgboost-master/python'\n",
      "    number_threads = 8\n",
      "    data_dir = '/Users/andyh_mac/Desktop/Analytics/Higgs/'\n",
      "elif platform.system() == 'Linux':\n",
      "    xgboost_path = '/home/ubuntu/xgboost-master/python'\n",
      "    number_threads = 32\n",
      "    data_dir = '/mnt2/Higgs/data_std_3split/'\n",
      "else:\n",
      "    print \"Don't know parameters for this system: %s\" % platform.system()"
     ],
     "language": "python",
     "metadata": {},
     "outputs": []
    },
    {
     "cell_type": "code",
     "collapsed": false,
     "input": [
      "import csv\n",
      "import numpy as np\n",
      "from matplotlib import pyplot as plt"
     ],
     "language": "python",
     "metadata": {},
     "outputs": []
    },
    {
     "cell_type": "code",
     "collapsed": false,
     "input": [
      "# Log transforms for data where range is large\n",
      "def log_xform(x):\n",
      "    return np.log(x)\n",
      "# Check for -999 values\n",
      "def na(x):\n",
      "    return np.any(x == -999.0)\n",
      "# Check for positive values\n",
      "def pos(x):\n",
      "    return np.all(x >0)"
     ],
     "language": "python",
     "metadata": {},
     "outputs": []
    },
    {
     "cell_type": "code",
     "collapsed": false,
     "input": [
      "# Load training data\n",
      "print 'Loading training data.'\n",
      "data_train = np.loadtxt( 'training.csv', delimiter=',', skiprows=1, converters={32: lambda x:int(x=='s'.encode('utf-8')) } )\n",
      " \n",
      "# Pick a random seed for reproducible results. Choose wisely!\n",
      "np.random.seed(42)\n",
      "# Random number for training/validation splitting\n",
      "r =np.random.rand(data_train.shape[0])\n",
      " \n",
      "# Put Y(truth), X(data), W(weight), and I(index) into their own arrays\n",
      "print 'Assigning data to numpy arrays.'\n",
      "# First 90% are training\n",
      "Y_train = data_train[:,32][r<0.9]\n",
      "X_train = data_train[:,1:31][r<0.9]\n",
      "W_train = data_train[:,31][r<0.9]\n",
      "# Lirst 10% are validation\n",
      "Y_valid = data_train[:,32][r>=0.9]\n",
      "X_valid = data_train[:,1:31][r>=0.9]\n",
      "W_valid = data_train[:,31][r>=0.9]\n",
      "\n",
      "X_test =  np.loadtxt( 'test.csv', delimiter=',', skiprows=1 )\n",
      "\n",
      "# Print dims for inspection\n",
      "print X_train.shape\n",
      "print X_valid.shape\n",
      "print X_test.shape"
     ],
     "language": "python",
     "metadata": {},
     "outputs": []
    },
    {
     "cell_type": "code",
     "collapsed": true,
     "input": [
      "# Names of variables to transform\n",
      "names = 'DER_mass_MMC,DER_mass_transverse_met_lep,DER_mass_vis,DER_pt_h,DER_deltaeta_jet_jet,DER_mass_jet_jet,DER_prodeta_jet_jet,DER_deltar_tau_lep,DER_pt_tot,DER_sum_pt,DER_pt_ratio_lep_tau,DER_met_phi_centrality,DER_lep_eta_centrality,PRI_tau_pt,PRI_tau_eta,PRI_tau_phi,PRI_lep_pt,PRI_lep_eta,PRI_lep_phi,PRI_met,PRI_met_phi,PRI_met_sumet,PRI_jet_num,PRI_jet_leading_pt,PRI_jet_leading_eta,PRI_jet_leading_phi,PRI_jet_subleading_pt,PRI_jet_subleading_eta,PRI_jet_subleading_phi,PRI_jet_all_pt'\n",
      "X_colnames = names.split(',')\n",
      "xform_cols = [2,7,9,10,19,21]\n",
      "# Check to see that there are no missing values\n",
      "for i in xform_cols:\n",
      "    print na(X_train[:,i])\n",
      "    print na(X_valid[:,i])\n",
      "    print na(X_test[:,i+1])\n",
      "# Check to see that all values are positive\n",
      "for i in xform_cols:\n",
      "    print pos(X_train[:,i])\n",
      "    print pos(X_valid[:,i])\n",
      "    print pos(X_test[:,i+1])"
     ],
     "language": "python",
     "metadata": {},
     "outputs": []
    },
    {
     "cell_type": "code",
     "collapsed": false,
     "input": [
      "# Log transform vars\n",
      "for i in xform_cols:\n",
      "    X_train[:,i] = log_xform(X_train[:,i])\n",
      "    X_valid[:,i] = log_xform(X_valid[:,i])\n",
      "    X_test[:,i+1]= log_xform(X_test[:,i+1])\n",
      "    plt.figure(i)\n",
      "    plt.hist(X_test[:,i+1])"
     ],
     "language": "python",
     "metadata": {},
     "outputs": []
    },
    {
     "cell_type": "code",
     "collapsed": false,
     "input": [
      "# Write X files\n",
      "def save_Xfiles(tup):\n",
      "    print 'Writing file: %s' % tup[0]\n",
      "    with open(data_dir + tup[0],'w') as fcsv:\n",
      "        fcsv.write((\",\").join(tup[1])+'\\n')\n",
      "        for i in range(tup[2].shape[0]):\n",
      "            data = tup[2][i,:].tolist()\n",
      "            line = [ str(x) for x in data]\n",
      "            theline = (\",\").join(line)+'\\n'\n",
      "            fcsv.write(theline) \n",
      "write_list = [ ('X_train_2.csv',X_colnames,X_train), ('X_valid_2.csv',X_colnames,X_valid) ]\n",
      "for t in write_list:\n",
      "    save_Xfiles(t)\n"
     ],
     "language": "python",
     "metadata": {},
     "outputs": []
    },
    {
     "cell_type": "code",
     "collapsed": false,
     "input": [
      "# Write Y files\n",
      "def save_Yfiles(tup):\n",
      "    print 'Writing file: %s' % tup[0]\n",
      "    with open(data_dir + tup[0],'w') as fcsv:\n",
      "        fcsv.write((\",\").join(tup[1])+'\\n')\n",
      "        for i in range(tup[2].shape[0]):\n",
      "            data = tup[2][i].tolist()\n",
      "            line = str(int(data)) + '\\n'\n",
      "            fcsv.write(theline) \n",
      "Y_colnames = [ 'Label']\n",
      "write_list = [ ('Y_train_2.csv',Y_colnames,Y_train), ('Y_valid_2.csv',X_colnames,Y_valid) ]\n",
      "for t in write_list:\n",
      "    save_YWfiles(t)"
     ],
     "language": "python",
     "metadata": {},
     "outputs": []
    },
    {
     "cell_type": "code",
     "collapsed": false,
     "input": [
      "# Write W files\n",
      "def save_Wfiles(tup):\n",
      "    print 'Writing file: %s' % tup[0]\n",
      "    with open(data_dir + tup[0],'w') as fcsv:\n",
      "        fcsv.write((\",\").join(tup[1])+'\\n')\n",
      "        for i in range(tup[2].shape[0]):\n",
      "            theline = str(tup[2][i]) +'\\n'\n",
      "            fcsv.write(theline) \n",
      "W_colnames = [ 'Weight']\n",
      "write_list = [ ('W_train_2.csv',W_colnames,W_train), ('W_valid_2.csv',W_colnames,W_valid) ]\n",
      "for t in write_list:\n",
      "    save_Wfiles(t)\n"
     ],
     "language": "python",
     "metadata": {},
     "outputs": []
    },
    {
     "cell_type": "code",
     "collapsed": false,
     "input": [
      "# Write X test\n",
      "test_colnames = ['EventId'] + X_colnames\n",
      "def save_Xfiles(tup):\n",
      "    print 'Writing file: test_log.csv' \n",
      "    with open(tup[0],'w') as fcsv:\n",
      "        fcsv.write((\",\").join(tup[1])+'\\n')\n",
      "        for i in range(tup[2].shape[0]):\n",
      "            data = tup[2][i,:].tolist()\n",
      "            line = [ str(x) for x in data]\n",
      "            theline = (\",\").join(line)+'\\n'\n",
      "            fcsv.write(theline) \n",
      "write_list = [ ('test_log.csv',test_colnames,X_test)]\n",
      "for t in write_list:\n",
      "    save_Xfiles(t)"
     ],
     "language": "python",
     "metadata": {},
     "outputs": []
    }
   ],
   "metadata": {}
  }
 ]
}