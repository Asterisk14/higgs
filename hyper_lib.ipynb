{
 "metadata": {
  "name": "",
  "signature": "sha256:f95e2f02ed3ffaafb781a44ea0f1c8eece90fc3f6511b483ea5339b35245dd22"
 },
 "nbformat": 3,
 "nbformat_minor": 0,
 "worksheets": [
  {
   "cells": [
    {
     "cell_type": "code",
     "collapsed": false,
     "input": [
      "# Functions for ploting and selecting hyperOpt parameters\n",
      "import matplotlib.pyplot as plt\n",
      "import numpy as np\n",
      "import pickle\n",
      "\"\"\"\n",
      "functions: plot_trials(trials), which_tid(n,trials)\n",
      "\"\"\"\n",
      "\n",
      "def plot_trials(trials):\n",
      "    def gen_vars():\n",
      "        result = []\n",
      "        for i,t in enumerate(trials):\n",
      "            result.append( (t['misc']['tid'],t['result']['loss'], t['result']['valid_loss']) )\n",
      "        return result\n",
      "    v = gen_vars()\n",
      "    sorted_v = sorted(v, key=lambda x: x[1], reverse=True)\n",
      "    loss = [ x[1] for x in sorted_v]\n",
      "    valid_loss = [ x[2] for x in sorted_v]\n",
      "    label = [ x[0] for x in sorted_v]\n",
      "    fig =plt.figure(3)\n",
      "    plt.plot(loss,'o',valid_loss,'^')\n",
      "    #plt.plot(valid_loss,'^')\n",
      "    ax.legend(['Training', 'Validation'])\n",
      "    plt.title('Training Loss, Validation Loss')\n",
      "    plt.xlabel('Trial')\n",
      "    plt.ylabel('Loss (1/AMS)')\n",
      "    plt.show()\n",
      "    \n",
      "def which_tid(n,trials):\n",
      "    def gen_vars():\n",
      "        result = []\n",
      "        for i,t in enumerate(trials):\n",
      "            result.append( (t['misc']['tid'],t['result']['loss'], t['result']['valid_loss']) )\n",
      "        return result\n",
      "    v = gen_vars()\n",
      "    sorted_v = sorted(v, key=lambda x: x[1], reverse=True)\n",
      "    label = [ x[0] for x in sorted_v]\n",
      "    idx = label[n]\n",
      "    print [ x for i,x in enumerate(trials) if i== idx]\n",
      "    return\n",
      "\n",
      "    \n"
     ],
     "language": "python",
     "metadata": {},
     "outputs": [],
     "prompt_number": 153
    }
   ],
   "metadata": {}
  }
 ]
}