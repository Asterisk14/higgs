{
 "metadata": {
  "name": "",
  "signature": "sha256:bb3c9f4a51885f5f87516f7c7d5709ce3fb7b84950eb2435b2b5f2518dd08a85"
 },
 "nbformat": 3,
 "nbformat_minor": 0,
 "worksheets": [
  {
   "cells": [
    {
     "cell_type": "heading",
     "level": 3,
     "metadata": {},
     "source": [
      "Bagging for xgboost"
     ]
    },
    {
     "cell_type": "markdown",
     "metadata": {},
     "source": [
      "test data format:"
     ]
    },
    {
     "cell_type": "raw",
     "metadata": {},
     "source": [
      "EventId,DER_mass_MMC,DER_mass_transverse_met_lep,DER_mass_vis,DER_pt_h,DER_deltaeta_jet_jet,DER_mass_jet_jet,DER_prodeta_jet_jet,DER_deltar_tau_lep,DER_pt_tot,DER_sum_pt,DER_pt_ratio_lep_tau,DER_met_phi_centrality,DER_lep_eta_centrality,PRI_tau_pt,PRI_tau_eta,PRI_tau_phi,PRI_lep_pt,PRI_lep_eta,PRI_lep_phi,PRI_met,PRI_met_phi,PRI_met_sumet,PRI_jet_num,PRI_jet_leading_pt,PRI_jet_leading_eta,PRI_jet_leading_phi,PRI_jet_subleading_pt,PRI_jet_subleading_eta,PRI_jet_subleading_phi,PRI_jet_all_pt\n",
      "350000,-999.0,79.589,23.916,3.036,-999.0,-999.0,-999.0,0.903,3.036,56.018,1.536,-1.404,-999.0,22.088,-0.54,-0.609,33.93,-0.504,-1.511,48.509,2.022,98.556,0,-999.0,-999.0,-999.0,-999.0,-999.0,-999.0,-0.0"
     ]
    },
    {
     "cell_type": "code",
     "collapsed": false,
     "input": [
      "import platform\n",
      "if platform.system() == 'Darwin':\n",
      "    xgboost_path = '/Users/andyh_mac/xgboost/xgboost-master/python'\n",
      "    number_threads = 8\n",
      "    data_dir = '/Users/andyh_mac/Desktop/Analytics/Higgs/data_std_2split/'\n",
      "elif platform.system() == 'Linux':\n",
      "    xgboost_path = '/home/ubuntu/xgboost-master/python'\n",
      "    number_threads = 32\n",
      "    data_dir = '/mnt2/Higgs/data_std_3split/'\n",
      "else:\n",
      "    print \"Don't know parameters for this system: %s\" % platform.system()\n",
      "\n",
      "from hyperopt import fmin, rand, tpe, space_eval, hp, Trials\n",
      "from hyperopt import STATUS_OK, STATUS_FAIL\n",
      "from matplotlib import pyplot as plt\n",
      "import higgs_lib\n",
      "import hyper_lib\n",
      "import math\n",
      "import numpy as np\n",
      "import pickle\n",
      "from pymongo import MongoClient\n",
      "import sys\n",
      "sys.path.append(xgboost_path)\n",
      "import xgboost as xgb"
     ],
     "language": "python",
     "metadata": {},
     "outputs": [],
     "prompt_number": 1
    },
    {
     "cell_type": "code",
     "collapsed": false,
     "input": [
      "# Pick a random seed for reproducible results. Choose wisely!\n",
      "np.random.seed(42)\n",
      "\n",
      "# Put Y(truth), X(data), W(weight), and I(index) into their own arrays\n",
      "print 'Assigning data to numpy arrays.'\n",
      "# First 80% are training\n",
      "Y_train = np.loadtxt( data_dir + 'Y_train_2.csv', delimiter=',', skiprows=1 )\n",
      "X_train = np.loadtxt( data_dir + 'X_train_2.csv', delimiter=',', skiprows=1 )\n",
      "W_train = np.loadtxt( data_dir + 'W_train_2.csv', delimiter=',', skiprows=1 )\n",
      "# Next 10% are validation\n",
      "Y_valid = np.loadtxt( data_dir + 'Y_valid_2.csv', delimiter=',', skiprows=1 )\n",
      "X_valid = np.loadtxt( data_dir + 'X_valid_2.csv', delimiter=',', skiprows=1 )\n",
      "W_valid = np.loadtxt( data_dir + 'W_valid_2.csv', delimiter=',', skiprows=1 )\n",
      "weight = W_train * (float(X_train.shape[0]) / len(Y_train))\n",
      "\n",
      "# Compute weight characteristics\n",
      "sum_wpos = sum( weight[i] for i in range(len(Y_train)) if Y_train[i] == 1.0  )\n",
      "sum_wneg = sum( weight[i] for i in range(len(Y_train)) if Y_train[i] == 0.0  )"
     ],
     "language": "python",
     "metadata": {},
     "outputs": [
      {
       "output_type": "stream",
       "stream": "stdout",
       "text": [
        "Assigning data to numpy arrays.\n"
       ]
      }
     ],
     "prompt_number": 3
    },
    {
     "cell_type": "code",
     "collapsed": false,
     "input": [
      "# Optional - Make dummy vars for missing jets data and missing der_mass_mmc\n",
      "# Two new vars:\n",
      "# First one is one when DER_MASS_MMC is -999 and zero otherwise\n",
      "# Second one is one when PRI_JET_NUM is less than or equal to 1 and zero otherwise\n",
      "USE_DUMMIES = True\n",
      "if USE_DUMMIES == True:\n",
      "    X_train = np.hstack((X_train, higgs_lib.make_dummies(X_train)))\n",
      "    X_valid = np.hstack((X_valid, higgs_lib.make_dummies(X_valid)))\n",
      "\n",
      "# Format data for xgboost\n",
      "dtrain = xgb.DMatrix(X_train,label=Y_train, weight = weight)\n",
      "dvalid = xgb.DMatrix(X_valid,label=Y_valid)\n"
     ],
     "language": "python",
     "metadata": {},
     "outputs": [],
     "prompt_number": 4
    },
    {
     "cell_type": "code",
     "collapsed": false,
     "input": [
      "# Bagging vars\n",
      "bag_ratio =.8\n",
      "bag_iter = 100\n",
      "models=[]\n",
      "\n",
      "# Set xgboost params\n",
      "best = {'threshold': 86, 'depth': 7, 'eta': 0.2}\n",
      "boost_iter = 100\n",
      "param = {}\n",
      "param['objective'] = 'binary:logitraw'  #raw coef not prob. why?\n",
      "param['bst:eta'] = best['eta'] \n",
      "param['bst:max_depth'] = int(best['depth'])\n",
      "param['eval_metric'] = 'auc'\n",
      "param['silent'] = 0\n",
      "param['nthread'] = number_threads\n",
      "\n",
      "# Pick random seed.\n",
      "np.random.seed(42)\n",
      "\n",
      "# Start bagging\n",
      "for i in range(bag_iter):\n",
      "    # Select bag sampl\n",
      "\n",
      "    # Random number for training/validation splitting\n",
      "    r =np.random.rand(X_train.shape[0])\n",
      "    \n",
      "    # Put Y(truth), X(data), W(weight), and I(index) into their own arrays\n",
      "    print 'bag iteration: %s' % i\n",
      "    # First 90% are training\n",
      "    Y_train_bag = Y_train[r<bag_ratio]\n",
      "    X_train_bag = X_train[r<bag_ratio]\n",
      "    W_train_bag = W_train[r<bag_ratio]\n",
      "\n",
      "    # Set xgboost data\n",
      "    weight = W_train_bag * (float(higgs_lib.TRAINING_LENGTH) / len(Y_train_bag))\n",
      "    dtrain = xgb.DMatrix(X_train_bag,label=Y_train_bag, weight = weight)\n",
      "    sum_wpos = sum( weight[i] for i in range(len(Y_train_bag)) if Y_train_bag[i] == 1.0  )\n",
      "    sum_wneg = sum( weight[i] for i in range(len(Y_train_bag)) if Y_train_bag[i] == 0.0  )\n",
      "    \n",
      "    # specify iteration dependent params\n",
      "    evallist  = [(dvalid,'eval'), (dtrain,'train')]\n",
      "    param['scale_pos_weight'] = sum_wneg/sum_wpos # scale weight of positive examples\n",
      "    \n",
      "    # Make model for this data sample\n",
      "    mdl = xgb.train( param, dtrain, boost_iter, evallist )\n",
      "    models.append(mdl)\n",
      "\n"
     ],
     "language": "python",
     "metadata": {},
     "outputs": [
      {
       "output_type": "stream",
       "stream": "stdout",
       "text": [
        "bag iteration: 0\n",
        "bag iteration: 1"
       ]
      },
      {
       "output_type": "stream",
       "stream": "stdout",
       "text": [
        "\n"
       ]
      }
     ],
     "prompt_number": 7
    },
    {
     "cell_type": "code",
     "collapsed": false,
     "input": [
      "# Define bagging prediction fn\n",
      "def bag_predict(models, data):\n",
      "    predicted = np.empty((data.num_row(),len(models)))\n",
      "    predicted[:] = np.NAN\n",
      "    for i,m in enumerate(models):\n",
      "        predicted[:,i] = m.predict(data)\n",
      "    return np.apply_along_axis(np.mean,1,predicted)"
     ],
     "language": "python",
     "metadata": {},
     "outputs": [],
     "prompt_number": 8
    },
    {
     "cell_type": "code",
     "collapsed": false,
     "input": [
      "# Make predictions with bagging models\n",
      "# Use full training set, not bag ratioed\n",
      "dtrain = xgb.DMatrix(X_train,label=Y_train, weight = weight)\n",
      "predict_train = bag_predict(models,dtrain)\n",
      "predict_valid = bag_predict(models,dvalid)\n",
      "\n",
      "# Select a cutoff point for assign signal and background labels\n",
      "pcut = np.percentile(predict_train,best['threshold'])\n",
      "\n",
      "# This are the final signal and background predictions\n",
      "Yhat_train = predict_train > pcut \n",
      "Yhat_valid = predict_valid > pcut\n",
      " \n",
      "# Calc numeber of s and b TruePos and True Neg for training and validation\n",
      "s_train, b_train = higgs_lib.count_s_b(W_train,Y_train,Yhat_train)\n",
      "s_valid, b_valid = higgs_lib.count_s_b(W_valid,Y_valid,Yhat_valid)\n",
      " \n",
      "# Now calculate the AMS scores\n",
      "print 'Calculating AMS score for a probability cutoff pcut=',pcut\n",
      "print '   - AMS based on 90% training   sample:',higgs_lib.AMSScore(s_train,b_train)\n",
      "print '   - AMS based on 10% validation sample:',higgs_lib.AMSScore(s_valid,b_valid)\n",
      " "
     ],
     "language": "python",
     "metadata": {},
     "outputs": [
      {
       "output_type": "stream",
       "stream": "stdout",
       "text": [
        "Calculating AMS score for a probability cutoff pcut= 1.21740317345\n",
        "   - AMS based on 90% training   sample: 3.07638221876\n",
        "   - AMS based on 10% validation sample: 3.05069817465\n"
       ]
      }
     ],
     "prompt_number": 9
    },
    {
     "cell_type": "code",
     "collapsed": false,
     "input": [
      "# Now we load the testing data, storing the data (X) and index (I)\n",
      "print 'Loading testing data'\n",
      "data_test = np.loadtxt( 'test_log.csv', delimiter=',', skiprows=1 )\n",
      "X_test = data_test[:,1:]\n",
      "I_test = list(data_test[:,0])\n",
      "\n",
      "if USE_DUMMIES == True:\n",
      "    # Make dummies\n",
      "    X_test = np.hstack((X_test, make_dummies(X_test)))\n",
      "    "
     ],
     "language": "python",
     "metadata": {},
     "outputs": [
      {
       "output_type": "stream",
       "stream": "stdout",
       "text": [
        "Loading testing data\n"
       ]
      }
     ],
     "prompt_number": 8
    },
    {
     "cell_type": "code",
     "collapsed": false,
     "input": [
      "dtest = xgb.DMatrix(X_test)\n",
      " \n",
      "# Get a vector of the probability predictions which will be used for the ranking\n",
      "print 'Building predictions'\n",
      "Predictions_test = bag_predict(models,dtest)\n",
      "# Assign labels based the best pcut\n",
      "Label_test = list(Predictions_test>pcut)\n",
      "Predictions_test =list(Predictions_test)\n",
      " "
     ],
     "language": "python",
     "metadata": {},
     "outputs": [
      {
       "output_type": "stream",
       "stream": "stdout",
       "text": [
        "Building predictions\n",
        "Organizing the prediction results"
       ]
      },
      {
       "output_type": "stream",
       "stream": "stdout",
       "text": [
        "\n"
       ]
      }
     ],
     "prompt_number": 9
    },
    {
     "cell_type": "code",
     "collapsed": false,
     "input": [
      "# Optional\n",
      "# Write the result list data to a submission csv file\n",
      "print 'Organizing the prediction results'\n",
      "resultlist = []\n",
      "for x in range(len(I_test)):\n",
      "    resultlist.append([int(I_test[x]), Predictions_test[x], 's'*(Label_test[x]==1.0)+'b'*(Label_test[x]==0.0)])\n",
      " \n",
      "# Sort the result list by the probability prediction\n",
      "resultlist = sorted(resultlist, key=lambda a_entry: a_entry[1]) \n",
      " \n",
      "# Loop over result list and replace probability prediction with integer ranking\n",
      "for y in range(len(resultlist)):\n",
      "    resultlist[y][1]=y+1\n",
      " \n",
      "# Re-sort the result list according to the index\n",
      "resultlist = sorted(resultlist, key=lambda a_entry: a_entry[0])\n",
      "# Write the file\n",
      "print 'Writing a final csv file Kaggle_higgs_prediction_output.csv'\n",
      "fcsv = open('Kaggle_higgs_prediction_output.csv','w')\n",
      "fcsv.write('EventId,RankOrder,Class\\n')\n",
      "for line in resultlist:\n",
      "    theline = str(line[0])+','+str(line[1])+','+line[2]+'\\n'\n",
      "    fcsv.write(theline) \n",
      "fcsv.close()"
     ],
     "language": "python",
     "metadata": {},
     "outputs": [
      {
       "output_type": "stream",
       "stream": "stdout",
       "text": [
        "Writing a final csv file Kaggle_higgs_prediction_output.csv\n"
       ]
      }
     ],
     "prompt_number": 29
    },
    {
     "cell_type": "code",
     "collapsed": false,
     "input": [
      "# Convert from logit raw format to probabilities\n",
      "print 'Building train test predictions for stacking'\n",
      "def proba(x): return 1.0/(1 + exp(-x))\n",
      "train_stack_prob = apply_along_axis(proba,0,predict_train)  # convert to probabillities to mix with other model outputs\n",
      "valid_stack_prob = apply_along_axis(proba,0,predict_valid)  # convert to probabillities to mix with other model outputs\n",
      "test_stack_prob = apply_along_axis(proba,0,Predictions_test)  # convert to probabillities to mix with other model outputs"
     ],
     "language": "python",
     "metadata": {},
     "outputs": [
      {
       "output_type": "stream",
       "stream": "stdout",
       "text": [
        "Building train test predictions for stacking\n"
       ]
      }
     ],
     "prompt_number": 13
    },
    {
     "cell_type": "code",
     "collapsed": false,
     "input": [
      "plt.hist([test_stack_prob],stacked=True, bins =30, color=[ 'Khaki'])"
     ],
     "language": "python",
     "metadata": {},
     "outputs": [
      {
       "metadata": {},
       "output_type": "pyout",
       "prompt_number": 15,
       "text": [
        "(array([ 131847.,   33764.,   22075.,   16804.,   13785.,   11824.,\n",
        "          10507.,    9739.,    9134.,    8774.,    8700.,    8522.,\n",
        "           8445.,    8482.,    8533.,    8667.,    8721.,    8888.,\n",
        "           9001.,    9464.,    9942.,   10410.,   11121.,   12004.,\n",
        "          13093.,   14606.,   17371.,   22163.,   33252.,   50362.]),\n",
        " array([  1.55078865e-04,   3.34595234e-02,   6.67639679e-02,\n",
        "          1.00068412e-01,   1.33372857e-01,   1.66677301e-01,\n",
        "          1.99981746e-01,   2.33286190e-01,   2.66590635e-01,\n",
        "          2.99895079e-01,   3.33199524e-01,   3.66503969e-01,\n",
        "          3.99808413e-01,   4.33112858e-01,   4.66417302e-01,\n",
        "          4.99721747e-01,   5.33026191e-01,   5.66330636e-01,\n",
        "          5.99635080e-01,   6.32939525e-01,   6.66243969e-01,\n",
        "          6.99548414e-01,   7.32852858e-01,   7.66157303e-01,\n",
        "          7.99461747e-01,   8.32766192e-01,   8.66070636e-01,\n",
        "          8.99375081e-01,   9.32679525e-01,   9.65983970e-01,\n",
        "          9.99288414e-01]),\n",
        " <a list of 30 Patch objects>)"
       ]
      },
      {
       "metadata": {},
       "output_type": "display_data",
       "png": "[encoded data removed]",
       "text": [
        "<matplotlib.figure.Figure at 0x7ff18fc18890>"
       ]
      }
     ],
     "prompt_number": 15
    },
    {
     "cell_type": "code",
     "collapsed": false,
     "input": [
      "# Save X predictions. Validation predictions and Test predictions along with param details to MongoDB\n",
      "# Stacking algo will pull data from MongoDB\n",
      "# Saving as two documents to avoid 15MB Mongo limit\n",
      "client = MongoClient()\n",
      "db = client.higgs\n",
      "# save predictions for stacking\n",
      "run_id = '23'\n",
      "comment =\"run 3 of log,dummy bagged xgb\"\n",
      "doc = {}\n",
      "doc['id']= run_id\n",
      "doc['type']= 'train'\n",
      "doc['comment']=comment\n",
      "doc['algo']='xgb'\n",
      "doc['boost_iter']=boost_iter\n",
      "doc['depth']= best['depth']\n",
      "doc['eta'] = best['eta']\n",
      "doc['threshold'] = best['threshold']\n",
      "doc['bag_iter'] = bag_iter\n",
      "doc['bag_ratio']= bag_ratio\n",
      "doc['stack_train']= train_stack_prob.tolist()\n",
      "doc['stack_valid']= valid_stack_prob.tolist()\n",
      "print 'Saving train data set to mongo db in higgs.data'\n",
      "db.data.insert(doc)\n",
      "doc = {}\n",
      "doc['id']= run_id\n",
      "doc['type']= 'test'\n",
      "doc['comment']=comment\n",
      "doc['algo']='xgb'\n",
      "doc['boost_iter']=boost_iter\n",
      "doc['depth']= best['depth']\n",
      "doc['eta'] = best['eta']\n",
      "doc['threshold'] = best['threshold']\n",
      "doc['bag_iter'] = bag_iter\n",
      "doc['bag_ratio']= bag_ratio\n",
      "doc['stack_test']= test_stack_prob.tolist()\n",
      "print 'Saving test data set to mongo db in higgs.data'\n",
      "db.data.insert(doc)"
     ],
     "language": "python",
     "metadata": {},
     "outputs": [
      {
       "output_type": "stream",
       "stream": "stdout",
       "text": [
        "Saving train data set to mongo db in higgs.data\n",
        "Saving test data set to mongo db in higgs.data"
       ]
      },
      {
       "output_type": "stream",
       "stream": "stdout",
       "text": [
        "\n"
       ]
      },
      {
       "metadata": {},
       "output_type": "pyout",
       "prompt_number": 31,
       "text": [
        "ObjectId('540e7db30b22ef0aa6879d6e')"
       ]
      }
     ],
     "prompt_number": 31
    },
    {
     "cell_type": "heading",
     "level": 2,
     "metadata": {},
     "source": [
      "Compare train and test coefficients"
     ]
    },
    {
     "cell_type": "code",
     "collapsed": false,
     "input": [
      "print 'number of postives for test: %s' % sum(Label_test)\n",
      "print 'number of postives for train(normalized to test): %s' % str(sum(Yhat_train)*550000/(X_train.shape[0]))\n"
     ],
     "language": "python",
     "metadata": {},
     "outputs": [
      {
       "output_type": "stream",
       "stream": "stdout",
       "text": [
        "number of postives for test: 70221\n",
        "number of postives for train(normalized to test): 76999\n"
       ]
      }
     ],
     "prompt_number": 10
    },
    {
     "cell_type": "code",
     "collapsed": false,
     "input": [
      "plt.hist([predict_valid],stacked=True, bins =30, color=[ 'Khaki'], range=[-10,8])"
     ],
     "language": "python",
     "metadata": {},
     "outputs": [
      {
       "metadata": {},
       "output_type": "pyout",
       "prompt_number": 11,
       "text": [
        "(array([    0.,     0.,     2.,    25.,   103.,   366.,   720.,  1068.,\n",
        "         1247.,  1151.,  1158.,  1170.,  1304.,  1438.,  1508.,  1548.,\n",
        "         1687.,  1695.,  1639.,  1474.,  1510.,  1320.,  1155.,   787.,\n",
        "          386.,   255.,   166.,    80.,     9.,     0.]),\n",
        " array([-10. ,  -9.4,  -8.8,  -8.2,  -7.6,  -7. ,  -6.4,  -5.8,  -5.2,\n",
        "         -4.6,  -4. ,  -3.4,  -2.8,  -2.2,  -1.6,  -1. ,  -0.4,   0.2,\n",
        "          0.8,   1.4,   2. ,   2.6,   3.2,   3.8,   4.4,   5. ,   5.6,\n",
        "          6.2,   6.8,   7.4,   8. ]),\n",
        " <a list of 30 Patch objects>)"
       ]
      },
      {
       "metadata": {},
       "output_type": "display_data",
       "png": "[encoded data removed]",
       "text": [
        "<matplotlib.figure.Figure at 0x7ff20ee1e050>"
       ]
      }
     ],
     "prompt_number": 11
    },
    {
     "cell_type": "code",
     "collapsed": false,
     "input": [
      "plt.hist(Predictions_test, bins = 30, range=[-10,8], color=[ 'DarkOrange'])"
     ],
     "language": "python",
     "metadata": {},
     "outputs": [
      {
       "metadata": {},
       "output_type": "pyout",
       "prompt_number": 12,
       "text": [
        "(array([     0.,      0.,     60.,    463.,   2479.,   8510.,  15776.,\n",
        "         22987.,  26560.,  26941.,  26409.,  27515.,  29792.,  31272.,\n",
        "         32223.,  34872.,  38123.,  38629.,  37628.,  33854.,  30871.,\n",
        "         28372.,  22842.,  14978.,   8797.,   4964.,   3360.,   1574.,\n",
        "           149.,      0.]),\n",
        " array([-10. ,  -9.4,  -8.8,  -8.2,  -7.6,  -7. ,  -6.4,  -5.8,  -5.2,\n",
        "         -4.6,  -4. ,  -3.4,  -2.8,  -2.2,  -1.6,  -1. ,  -0.4,   0.2,\n",
        "          0.8,   1.4,   2. ,   2.6,   3.2,   3.8,   4.4,   5. ,   5.6,\n",
        "          6.2,   6.8,   7.4,   8. ]),\n",
        " <a list of 30 Patch objects>)"
       ]
      },
      {
       "metadata": {},
       "output_type": "display_data",
       "png": "[encoded data removed]",
       "text": [
        "<matplotlib.figure.Figure at 0x7ff18fce8210>"
       ]
      }
     ],
     "prompt_number": 12
    }
   ],
   "metadata": {}
  }
 ]
}